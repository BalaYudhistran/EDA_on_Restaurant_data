{
 "cells": [
  {
   "cell_type": "markdown",
   "id": "2ef3502c",
   "metadata": {},
   "source": [
    "# Restaurant Sales report\n",
    "**Using EDA Analysis**"
   ]
  },
  {
   "cell_type": "markdown",
   "id": "52a88ea9",
   "metadata": {},
   "source": [
    "## Data Description:\n",
    "This dataset captures sales transactions from a local restaurant. It includes details such as the order ID, date of the transaction, item names (representing various food and beverage items), item types (categorized as Fast-food or Beverages), item prices, quantities ordered, transaction amounts, transaction types (cash, online, or others), the gender of the staff member who received the order, and the time of the sale (Morning, Evening, Afternoon, Night, Midnight). The dataset offers a valuable snapshot of the restaurant's daily operations and customer behavior.\n",
    "\n",
    "### Columns:\n",
    "\n",
    "    order_id: a unique identifier for each order.\n",
    "    date: date of the transaction.\n",
    "    item_name: name of the food.\n",
    "    item_type: category of item (Fastfood or Beverages).\n",
    "    item_price: price of the item for 1 quantity.\n",
    "    Quantity: how much quantity the customer orders.\n",
    "    transaction_amount: the total amount paid by customers.\n",
    "    transaction_type: payment method (cash, online, others).\n",
    "    received_by: gender of the person handling the transaction.\n",
    "    time_of_sale: different times of the day (Morning, Evening, Afternoon, Night, Midnight)."
   ]
  },
  {
   "cell_type": "code",
   "execution_count": null,
   "id": "d5d96a91",
   "metadata": {},
   "outputs": [],
   "source": []
  },
  {
   "cell_type": "markdown",
   "id": "9305de2f",
   "metadata": {},
   "source": [
    "###### STEP1: import Libraries"
   ]
  },
  {
   "cell_type": "code",
   "execution_count": 1,
   "id": "517a5a12",
   "metadata": {},
   "outputs": [],
   "source": [
    "import numpy as np\n",
    "import pandas as pd\n",
    "import seaborn as sns\n",
    "import matplotlib.pyplot as plt"
   ]
  },
  {
   "cell_type": "code",
   "execution_count": null,
   "id": "f7a37e0c",
   "metadata": {},
   "outputs": [],
   "source": []
  },
  {
   "cell_type": "code",
   "execution_count": null,
   "id": "a2b1bd4c",
   "metadata": {},
   "outputs": [],
   "source": []
  },
  {
   "cell_type": "markdown",
   "id": "095ffa62",
   "metadata": {},
   "source": [
    "###### STEP2: Import .csv file "
   ]
  },
  {
   "cell_type": "code",
   "execution_count": 2,
   "id": "95c1e07a",
   "metadata": {},
   "outputs": [
    {
     "data": {
      "text/html": [
       "<div>\n",
       "<style scoped>\n",
       "    .dataframe tbody tr th:only-of-type {\n",
       "        vertical-align: middle;\n",
       "    }\n",
       "\n",
       "    .dataframe tbody tr th {\n",
       "        vertical-align: top;\n",
       "    }\n",
       "\n",
       "    .dataframe thead th {\n",
       "        text-align: right;\n",
       "    }\n",
       "</style>\n",
       "<table border=\"1\" class=\"dataframe\">\n",
       "  <thead>\n",
       "    <tr style=\"text-align: right;\">\n",
       "      <th></th>\n",
       "      <th>order_id</th>\n",
       "      <th>date</th>\n",
       "      <th>item_name</th>\n",
       "      <th>item_type</th>\n",
       "      <th>item_price</th>\n",
       "      <th>quantity</th>\n",
       "      <th>transaction_amount</th>\n",
       "      <th>transaction_type</th>\n",
       "      <th>received_by</th>\n",
       "      <th>time_of_sale</th>\n",
       "    </tr>\n",
       "  </thead>\n",
       "  <tbody>\n",
       "    <tr>\n",
       "      <th>0</th>\n",
       "      <td>1</td>\n",
       "      <td>07-03-2022</td>\n",
       "      <td>Aalopuri</td>\n",
       "      <td>Fastfood</td>\n",
       "      <td>20</td>\n",
       "      <td>13</td>\n",
       "      <td>260</td>\n",
       "      <td>NaN</td>\n",
       "      <td>Mr.</td>\n",
       "      <td>Night</td>\n",
       "    </tr>\n",
       "    <tr>\n",
       "      <th>1</th>\n",
       "      <td>2</td>\n",
       "      <td>8/23/2022</td>\n",
       "      <td>Vadapav</td>\n",
       "      <td>Fastfood</td>\n",
       "      <td>20</td>\n",
       "      <td>15</td>\n",
       "      <td>300</td>\n",
       "      <td>Cash</td>\n",
       "      <td>Mr.</td>\n",
       "      <td>Afternoon</td>\n",
       "    </tr>\n",
       "    <tr>\n",
       "      <th>2</th>\n",
       "      <td>3</td>\n",
       "      <td>11/20/2022</td>\n",
       "      <td>Vadapav</td>\n",
       "      <td>Fastfood</td>\n",
       "      <td>20</td>\n",
       "      <td>1</td>\n",
       "      <td>20</td>\n",
       "      <td>Cash</td>\n",
       "      <td>Mr.</td>\n",
       "      <td>Afternoon</td>\n",
       "    </tr>\n",
       "    <tr>\n",
       "      <th>3</th>\n",
       "      <td>4</td>\n",
       "      <td>02-03-2023</td>\n",
       "      <td>Sugarcane juice</td>\n",
       "      <td>Beverages</td>\n",
       "      <td>25</td>\n",
       "      <td>6</td>\n",
       "      <td>150</td>\n",
       "      <td>Online</td>\n",
       "      <td>Mr.</td>\n",
       "      <td>Night</td>\n",
       "    </tr>\n",
       "    <tr>\n",
       "      <th>4</th>\n",
       "      <td>5</td>\n",
       "      <td>10-02-2022</td>\n",
       "      <td>Sugarcane juice</td>\n",
       "      <td>Beverages</td>\n",
       "      <td>25</td>\n",
       "      <td>8</td>\n",
       "      <td>200</td>\n",
       "      <td>Online</td>\n",
       "      <td>Mr.</td>\n",
       "      <td>Evening</td>\n",
       "    </tr>\n",
       "  </tbody>\n",
       "</table>\n",
       "</div>"
      ],
      "text/plain": [
       "   order_id        date        item_name  item_type  item_price  quantity  \\\n",
       "0         1  07-03-2022         Aalopuri   Fastfood          20        13   \n",
       "1         2   8/23/2022          Vadapav   Fastfood          20        15   \n",
       "2         3  11/20/2022          Vadapav   Fastfood          20         1   \n",
       "3         4  02-03-2023  Sugarcane juice  Beverages          25         6   \n",
       "4         5  10-02-2022  Sugarcane juice  Beverages          25         8   \n",
       "\n",
       "   transaction_amount transaction_type received_by time_of_sale  \n",
       "0                 260              NaN         Mr.        Night  \n",
       "1                 300             Cash         Mr.    Afternoon  \n",
       "2                  20             Cash         Mr.    Afternoon  \n",
       "3                 150           Online         Mr.        Night  \n",
       "4                 200           Online         Mr.      Evening  "
      ]
     },
     "execution_count": 2,
     "metadata": {},
     "output_type": "execute_result"
    }
   ],
   "source": [
    "df = pd.read_csv('Balaji Fast Food Sales.csv')\n",
    "df.head()"
   ]
  },
  {
   "cell_type": "code",
   "execution_count": 3,
   "id": "9c8f8aa0",
   "metadata": {},
   "outputs": [
    {
     "name": "stdout",
     "output_type": "stream",
     "text": [
      "\n",
      "shape:\n",
      " (1000, 10)\n",
      "\n",
      "size:\n",
      " 10000\n",
      "<class 'pandas.core.frame.DataFrame'>\n",
      "RangeIndex: 1000 entries, 0 to 999\n",
      "Data columns (total 10 columns):\n",
      " #   Column              Non-Null Count  Dtype \n",
      "---  ------              --------------  ----- \n",
      " 0   order_id            1000 non-null   int64 \n",
      " 1   date                1000 non-null   object\n",
      " 2   item_name           1000 non-null   object\n",
      " 3   item_type           1000 non-null   object\n",
      " 4   item_price          1000 non-null   int64 \n",
      " 5   quantity            1000 non-null   int64 \n",
      " 6   transaction_amount  1000 non-null   int64 \n",
      " 7   transaction_type    893 non-null    object\n",
      " 8   received_by         1000 non-null   object\n",
      " 9   time_of_sale        1000 non-null   object\n",
      "dtypes: int64(4), object(6)\n",
      "memory usage: 78.3+ KB\n",
      "\n",
      "info:\n",
      " None\n"
     ]
    }
   ],
   "source": [
    "print('\\nshape:\\n' , df.shape)\n",
    "print('\\nsize:\\n' , df.size)\n",
    "print('\\ninfo:\\n' , df.info())"
   ]
  },
  {
   "cell_type": "markdown",
   "id": "fbb7c891",
   "metadata": {},
   "source": [
    "***********************************************************\n",
    "#### INFERENCE:\n",
    "    1.This dataset includes columns such as order_id, date, item_name, item_type, item_price, quantity, transaction_amount, transaction_type, received_by, and time_of_sale.\n",
    "    \n",
    "    2.Out of which 4-Numeric and 6-Catogorical data\n",
    "    \n",
    "    3.Data has 10 columns & 1000 rows providing information on transactions at a local restaurant.\n",
    " \n",
    " ***********************************************************"
   ]
  },
  {
   "cell_type": "code",
   "execution_count": null,
   "id": "fb93e4ba",
   "metadata": {},
   "outputs": [],
   "source": []
  },
  {
   "cell_type": "code",
   "execution_count": null,
   "id": "5ceaa125",
   "metadata": {},
   "outputs": [],
   "source": []
  },
  {
   "cell_type": "markdown",
   "id": "f8650452",
   "metadata": {},
   "source": [
    "###### STEP3: Check the Duplicates "
   ]
  },
  {
   "cell_type": "code",
   "execution_count": 4,
   "id": "075ad1d5",
   "metadata": {},
   "outputs": [
    {
     "data": {
      "text/html": [
       "<div>\n",
       "<style scoped>\n",
       "    .dataframe tbody tr th:only-of-type {\n",
       "        vertical-align: middle;\n",
       "    }\n",
       "\n",
       "    .dataframe tbody tr th {\n",
       "        vertical-align: top;\n",
       "    }\n",
       "\n",
       "    .dataframe thead th {\n",
       "        text-align: right;\n",
       "    }\n",
       "</style>\n",
       "<table border=\"1\" class=\"dataframe\">\n",
       "  <thead>\n",
       "    <tr style=\"text-align: right;\">\n",
       "      <th></th>\n",
       "      <th>order_id</th>\n",
       "      <th>date</th>\n",
       "      <th>item_name</th>\n",
       "      <th>item_type</th>\n",
       "      <th>item_price</th>\n",
       "      <th>quantity</th>\n",
       "      <th>transaction_amount</th>\n",
       "      <th>transaction_type</th>\n",
       "      <th>received_by</th>\n",
       "      <th>time_of_sale</th>\n",
       "    </tr>\n",
       "  </thead>\n",
       "  <tbody>\n",
       "  </tbody>\n",
       "</table>\n",
       "</div>"
      ],
      "text/plain": [
       "Empty DataFrame\n",
       "Columns: [order_id, date, item_name, item_type, item_price, quantity, transaction_amount, transaction_type, received_by, time_of_sale]\n",
       "Index: []"
      ]
     },
     "execution_count": 4,
     "metadata": {},
     "output_type": "execute_result"
    }
   ],
   "source": [
    "#Duplicate\n",
    "df_duplicate = df[df.duplicated(keep=False)]\n",
    "df_duplicate"
   ]
  },
  {
   "cell_type": "code",
   "execution_count": null,
   "id": "2fb29940",
   "metadata": {},
   "outputs": [],
   "source": []
  },
  {
   "cell_type": "code",
   "execution_count": null,
   "id": "0ca53317",
   "metadata": {},
   "outputs": [],
   "source": []
  },
  {
   "cell_type": "markdown",
   "id": "77d3f302",
   "metadata": {},
   "source": [
    "###### STEP4: null values handling"
   ]
  },
  {
   "cell_type": "code",
   "execution_count": 5,
   "id": "5467ddad",
   "metadata": {},
   "outputs": [
    {
     "data": {
      "text/plain": [
       "order_id                0\n",
       "date                    0\n",
       "item_name               0\n",
       "item_type               0\n",
       "item_price              0\n",
       "quantity                0\n",
       "transaction_amount      0\n",
       "transaction_type      107\n",
       "received_by             0\n",
       "time_of_sale            0\n",
       "dtype: int64"
      ]
     },
     "execution_count": 5,
     "metadata": {},
     "output_type": "execute_result"
    }
   ],
   "source": [
    "df.isnull().sum()"
   ]
  },
  {
   "cell_type": "code",
   "execution_count": 6,
   "id": "7daefb23",
   "metadata": {},
   "outputs": [
    {
     "data": {
      "text/plain": [
       "array([nan, 'Cash', 'Online'], dtype=object)"
      ]
     },
     "execution_count": 6,
     "metadata": {},
     "output_type": "execute_result"
    }
   ],
   "source": [
    "df['transaction_type'].unique()"
   ]
  },
  {
   "cell_type": "code",
   "execution_count": 7,
   "id": "96cf366d",
   "metadata": {},
   "outputs": [
    {
     "data": {
      "text/plain": [
       "item_type  transaction_type\n",
       "Beverages  Cash                148\n",
       "           Online              126\n",
       "Fastfood   Cash                328\n",
       "           Online              291\n",
       "Name: count, dtype: int64"
      ]
     },
     "execution_count": 7,
     "metadata": {},
     "output_type": "execute_result"
    }
   ],
   "source": [
    "df[['item_type','transaction_type']].value_counts().sort_index()"
   ]
  },
  {
   "cell_type": "code",
   "execution_count": null,
   "id": "2c60bad7",
   "metadata": {},
   "outputs": [],
   "source": []
  },
  {
   "cell_type": "markdown",
   "id": "d9915d0d",
   "metadata": {},
   "source": [
    "***********************************************************\n",
    "As per the analysis since the null value is 10% for transaction_type we can go with mode value, so we will replace nulll value with the mode value of item_type\n",
    "\n",
    "NOTE: There are different ways to solve this problem but we will use the approach that most values are used in place of Null Values\n",
    "\n",
    "***********************************************************"
   ]
  },
  {
   "cell_type": "code",
   "execution_count": null,
   "id": "903f21b8",
   "metadata": {},
   "outputs": [],
   "source": []
  },
  {
   "cell_type": "code",
   "execution_count": 8,
   "id": "4b8c6d0a",
   "metadata": {},
   "outputs": [],
   "source": [
    "df['transaction_type'].fillna(value='Cash',inplace=True)"
   ]
  },
  {
   "cell_type": "code",
   "execution_count": 9,
   "id": "e8a75aac",
   "metadata": {},
   "outputs": [
    {
     "data": {
      "text/plain": [
       "item_type  transaction_type\n",
       "Beverages  Cash                188\n",
       "           Online              126\n",
       "Fastfood   Cash                395\n",
       "           Online              291\n",
       "Name: count, dtype: int64"
      ]
     },
     "execution_count": 9,
     "metadata": {},
     "output_type": "execute_result"
    }
   ],
   "source": [
    "df[['item_type','transaction_type']].value_counts().sort_index()"
   ]
  },
  {
   "cell_type": "code",
   "execution_count": 10,
   "id": "e892bb90",
   "metadata": {},
   "outputs": [
    {
     "data": {
      "text/plain": [
       "order_id              0\n",
       "date                  0\n",
       "item_name             0\n",
       "item_type             0\n",
       "item_price            0\n",
       "quantity              0\n",
       "transaction_amount    0\n",
       "transaction_type      0\n",
       "received_by           0\n",
       "time_of_sale          0\n",
       "dtype: int64"
      ]
     },
     "execution_count": 10,
     "metadata": {},
     "output_type": "execute_result"
    }
   ],
   "source": [
    "df.isnull().sum()"
   ]
  },
  {
   "cell_type": "code",
   "execution_count": null,
   "id": "31a58ae7",
   "metadata": {},
   "outputs": [],
   "source": []
  },
  {
   "cell_type": "code",
   "execution_count": null,
   "id": "cc7009ff",
   "metadata": {},
   "outputs": [],
   "source": []
  },
  {
   "cell_type": "markdown",
   "id": "544186cf",
   "metadata": {},
   "source": [
    "###### STEP5: Check and correct DataType also check for annomalies"
   ]
  },
  {
   "cell_type": "code",
   "execution_count": 12,
   "id": "59559bcf",
   "metadata": {},
   "outputs": [
    {
     "name": "stdout",
     "output_type": "stream",
     "text": [
      "<class 'pandas.core.frame.DataFrame'>\n",
      "RangeIndex: 1000 entries, 0 to 999\n",
      "Data columns (total 10 columns):\n",
      " #   Column              Non-Null Count  Dtype         \n",
      "---  ------              --------------  -----         \n",
      " 0   order_id            1000 non-null   int64         \n",
      " 1   date                1000 non-null   datetime64[ns]\n",
      " 2   item_name           1000 non-null   object        \n",
      " 3   item_type           1000 non-null   object        \n",
      " 4   item_price          1000 non-null   int64         \n",
      " 5   quantity            1000 non-null   int64         \n",
      " 6   transaction_amount  1000 non-null   int64         \n",
      " 7   transaction_type    1000 non-null   object        \n",
      " 8   received_by         1000 non-null   object        \n",
      " 9   time_of_sale        1000 non-null   object        \n",
      "dtypes: datetime64[ns](1), int64(4), object(5)\n",
      "memory usage: 78.3+ KB\n"
     ]
    }
   ],
   "source": [
    "# replace '/' to '-' from date column\n",
    "df['date'] = df['date'].str.replace('/', '-')\n",
    "\n",
    "# Changing date from object to date datatype\n",
    "df['date']=pd.to_datetime(df['date'])\n",
    "df.info()"
   ]
  },
  {
   "cell_type": "code",
   "execution_count": null,
   "id": "021a4995",
   "metadata": {},
   "outputs": [],
   "source": []
  },
  {
   "cell_type": "code",
   "execution_count": null,
   "id": "0569fc72",
   "metadata": {},
   "outputs": [],
   "source": []
  },
  {
   "cell_type": "markdown",
   "id": "a4baa35b",
   "metadata": {},
   "source": [
    "###### STEP6: Seperate Categoric & Numberic columns"
   ]
  },
  {
   "cell_type": "code",
   "execution_count": 13,
   "id": "7dda4076",
   "metadata": {},
   "outputs": [],
   "source": [
    "num_col = df.select_dtypes(include = np.number).columns.to_list()\n",
    "cat_col = df.select_dtypes(include = 'object').columns.to_list()"
   ]
  },
  {
   "cell_type": "code",
   "execution_count": 14,
   "id": "1b6be180",
   "metadata": {},
   "outputs": [
    {
     "name": "stdout",
     "output_type": "stream",
     "text": [
      "The numeric columns are ['order_id', 'item_price', 'quantity', 'transaction_amount']\n",
      "The categorical columns are ['item_name', 'item_type', 'transaction_type', 'received_by', 'time_of_sale']\n",
      "The date column : date\n"
     ]
    }
   ],
   "source": [
    "print('The numeric columns are', num_col)\n",
    "print('The categorical columns are', cat_col)\n",
    "print('The date column : date')"
   ]
  },
  {
   "cell_type": "code",
   "execution_count": null,
   "id": "b0773003",
   "metadata": {},
   "outputs": [],
   "source": []
  },
  {
   "cell_type": "code",
   "execution_count": 47,
   "id": "0cf5aa28",
   "metadata": {},
   "outputs": [
    {
     "data": {
      "text/html": [
       "<div>\n",
       "<style scoped>\n",
       "    .dataframe tbody tr th:only-of-type {\n",
       "        vertical-align: middle;\n",
       "    }\n",
       "\n",
       "    .dataframe tbody tr th {\n",
       "        vertical-align: top;\n",
       "    }\n",
       "\n",
       "    .dataframe thead th {\n",
       "        text-align: right;\n",
       "    }\n",
       "</style>\n",
       "<table border=\"1\" class=\"dataframe\">\n",
       "  <thead>\n",
       "    <tr style=\"text-align: right;\">\n",
       "      <th></th>\n",
       "      <th>order_id</th>\n",
       "      <th>date</th>\n",
       "      <th>item_name</th>\n",
       "      <th>item_type</th>\n",
       "      <th>item_price</th>\n",
       "      <th>quantity</th>\n",
       "      <th>transaction_amount</th>\n",
       "      <th>transaction_type</th>\n",
       "      <th>received_by</th>\n",
       "      <th>time_of_sale</th>\n",
       "      <th>Month_Year</th>\n",
       "    </tr>\n",
       "  </thead>\n",
       "  <tbody>\n",
       "    <tr>\n",
       "      <th>0</th>\n",
       "      <td>1</td>\n",
       "      <td>2022-07-03</td>\n",
       "      <td>Aalopuri</td>\n",
       "      <td>Fastfood</td>\n",
       "      <td>20</td>\n",
       "      <td>13</td>\n",
       "      <td>260</td>\n",
       "      <td>Cash</td>\n",
       "      <td>Mr.</td>\n",
       "      <td>Night</td>\n",
       "      <td>2022-07</td>\n",
       "    </tr>\n",
       "    <tr>\n",
       "      <th>1</th>\n",
       "      <td>2</td>\n",
       "      <td>2022-08-23</td>\n",
       "      <td>Vadapav</td>\n",
       "      <td>Fastfood</td>\n",
       "      <td>20</td>\n",
       "      <td>15</td>\n",
       "      <td>300</td>\n",
       "      <td>Cash</td>\n",
       "      <td>Mr.</td>\n",
       "      <td>Afternoon</td>\n",
       "      <td>2022-08</td>\n",
       "    </tr>\n",
       "    <tr>\n",
       "      <th>2</th>\n",
       "      <td>3</td>\n",
       "      <td>2022-11-20</td>\n",
       "      <td>Vadapav</td>\n",
       "      <td>Fastfood</td>\n",
       "      <td>20</td>\n",
       "      <td>1</td>\n",
       "      <td>20</td>\n",
       "      <td>Cash</td>\n",
       "      <td>Mr.</td>\n",
       "      <td>Afternoon</td>\n",
       "      <td>2022-11</td>\n",
       "    </tr>\n",
       "    <tr>\n",
       "      <th>3</th>\n",
       "      <td>4</td>\n",
       "      <td>2023-02-03</td>\n",
       "      <td>Sugarcane juice</td>\n",
       "      <td>Beverages</td>\n",
       "      <td>25</td>\n",
       "      <td>6</td>\n",
       "      <td>150</td>\n",
       "      <td>Online</td>\n",
       "      <td>Mr.</td>\n",
       "      <td>Night</td>\n",
       "      <td>2023-02</td>\n",
       "    </tr>\n",
       "    <tr>\n",
       "      <th>4</th>\n",
       "      <td>5</td>\n",
       "      <td>2022-10-02</td>\n",
       "      <td>Sugarcane juice</td>\n",
       "      <td>Beverages</td>\n",
       "      <td>25</td>\n",
       "      <td>8</td>\n",
       "      <td>200</td>\n",
       "      <td>Online</td>\n",
       "      <td>Mr.</td>\n",
       "      <td>Evening</td>\n",
       "      <td>2022-10</td>\n",
       "    </tr>\n",
       "    <tr>\n",
       "      <th>...</th>\n",
       "      <td>...</td>\n",
       "      <td>...</td>\n",
       "      <td>...</td>\n",
       "      <td>...</td>\n",
       "      <td>...</td>\n",
       "      <td>...</td>\n",
       "      <td>...</td>\n",
       "      <td>...</td>\n",
       "      <td>...</td>\n",
       "      <td>...</td>\n",
       "      <td>...</td>\n",
       "    </tr>\n",
       "    <tr>\n",
       "      <th>995</th>\n",
       "      <td>996</td>\n",
       "      <td>2023-03-19</td>\n",
       "      <td>Frankie</td>\n",
       "      <td>Fastfood</td>\n",
       "      <td>50</td>\n",
       "      <td>10</td>\n",
       "      <td>500</td>\n",
       "      <td>Cash</td>\n",
       "      <td>Mrs.</td>\n",
       "      <td>Evening</td>\n",
       "      <td>2023-03</td>\n",
       "    </tr>\n",
       "    <tr>\n",
       "      <th>996</th>\n",
       "      <td>997</td>\n",
       "      <td>2022-09-20</td>\n",
       "      <td>Sandwich</td>\n",
       "      <td>Fastfood</td>\n",
       "      <td>60</td>\n",
       "      <td>7</td>\n",
       "      <td>420</td>\n",
       "      <td>Cash</td>\n",
       "      <td>Mr.</td>\n",
       "      <td>Evening</td>\n",
       "      <td>2022-09</td>\n",
       "    </tr>\n",
       "    <tr>\n",
       "      <th>997</th>\n",
       "      <td>998</td>\n",
       "      <td>2023-01-26</td>\n",
       "      <td>Sandwich</td>\n",
       "      <td>Fastfood</td>\n",
       "      <td>60</td>\n",
       "      <td>13</td>\n",
       "      <td>780</td>\n",
       "      <td>Cash</td>\n",
       "      <td>Mr.</td>\n",
       "      <td>Evening</td>\n",
       "      <td>2023-01</td>\n",
       "    </tr>\n",
       "    <tr>\n",
       "      <th>998</th>\n",
       "      <td>999</td>\n",
       "      <td>2022-08-27</td>\n",
       "      <td>Panipuri</td>\n",
       "      <td>Fastfood</td>\n",
       "      <td>20</td>\n",
       "      <td>5</td>\n",
       "      <td>100</td>\n",
       "      <td>Cash</td>\n",
       "      <td>Mrs.</td>\n",
       "      <td>Afternoon</td>\n",
       "      <td>2022-08</td>\n",
       "    </tr>\n",
       "    <tr>\n",
       "      <th>999</th>\n",
       "      <td>1000</td>\n",
       "      <td>2022-05-29</td>\n",
       "      <td>Aalopuri</td>\n",
       "      <td>Fastfood</td>\n",
       "      <td>20</td>\n",
       "      <td>3</td>\n",
       "      <td>60</td>\n",
       "      <td>Online</td>\n",
       "      <td>Mrs.</td>\n",
       "      <td>Midnight</td>\n",
       "      <td>2022-05</td>\n",
       "    </tr>\n",
       "  </tbody>\n",
       "</table>\n",
       "<p>1000 rows × 11 columns</p>\n",
       "</div>"
      ],
      "text/plain": [
       "     order_id       date        item_name  item_type  item_price  quantity  \\\n",
       "0           1 2022-07-03         Aalopuri   Fastfood          20        13   \n",
       "1           2 2022-08-23          Vadapav   Fastfood          20        15   \n",
       "2           3 2022-11-20          Vadapav   Fastfood          20         1   \n",
       "3           4 2023-02-03  Sugarcane juice  Beverages          25         6   \n",
       "4           5 2022-10-02  Sugarcane juice  Beverages          25         8   \n",
       "..        ...        ...              ...        ...         ...       ...   \n",
       "995       996 2023-03-19          Frankie   Fastfood          50        10   \n",
       "996       997 2022-09-20         Sandwich   Fastfood          60         7   \n",
       "997       998 2023-01-26         Sandwich   Fastfood          60        13   \n",
       "998       999 2022-08-27         Panipuri   Fastfood          20         5   \n",
       "999      1000 2022-05-29         Aalopuri   Fastfood          20         3   \n",
       "\n",
       "     transaction_amount transaction_type received_by time_of_sale Month_Year  \n",
       "0                   260             Cash         Mr.        Night    2022-07  \n",
       "1                   300             Cash         Mr.    Afternoon    2022-08  \n",
       "2                    20             Cash         Mr.    Afternoon    2022-11  \n",
       "3                   150           Online         Mr.        Night    2023-02  \n",
       "4                   200           Online         Mr.      Evening    2022-10  \n",
       "..                  ...              ...         ...          ...        ...  \n",
       "995                 500             Cash        Mrs.      Evening    2023-03  \n",
       "996                 420             Cash         Mr.      Evening    2022-09  \n",
       "997                 780             Cash         Mr.      Evening    2023-01  \n",
       "998                 100             Cash        Mrs.    Afternoon    2022-08  \n",
       "999                  60           Online        Mrs.     Midnight    2022-05  \n",
       "\n",
       "[1000 rows x 11 columns]"
      ]
     },
     "execution_count": 47,
     "metadata": {},
     "output_type": "execute_result"
    }
   ],
   "source": [
    "df"
   ]
  },
  {
   "cell_type": "code",
   "execution_count": null,
   "id": "29e817a0",
   "metadata": {},
   "outputs": [],
   "source": []
  },
  {
   "cell_type": "code",
   "execution_count": null,
   "id": "8d9fdf2b",
   "metadata": {},
   "outputs": [],
   "source": []
  },
  {
   "cell_type": "code",
   "execution_count": null,
   "id": "1d820c6e",
   "metadata": {},
   "outputs": [],
   "source": []
  },
  {
   "cell_type": "markdown",
   "id": "940b8706",
   "metadata": {},
   "source": [
    "###### STEP7: Analysis"
   ]
  },
  {
   "cell_type": "code",
   "execution_count": 52,
   "id": "22f0a68a",
   "metadata": {},
   "outputs": [
    {
     "data": {
      "text/html": [
       "<div>\n",
       "<style scoped>\n",
       "    .dataframe tbody tr th:only-of-type {\n",
       "        vertical-align: middle;\n",
       "    }\n",
       "\n",
       "    .dataframe tbody tr th {\n",
       "        vertical-align: top;\n",
       "    }\n",
       "\n",
       "    .dataframe thead th {\n",
       "        text-align: right;\n",
       "    }\n",
       "</style>\n",
       "<table border=\"1\" class=\"dataframe\">\n",
       "  <thead>\n",
       "    <tr style=\"text-align: right;\">\n",
       "      <th></th>\n",
       "      <th>order_id</th>\n",
       "      <th>date</th>\n",
       "      <th>item_name</th>\n",
       "      <th>item_type</th>\n",
       "      <th>item_price</th>\n",
       "      <th>quantity</th>\n",
       "      <th>transaction_amount</th>\n",
       "      <th>transaction_type</th>\n",
       "      <th>received_by</th>\n",
       "      <th>time_of_sale</th>\n",
       "      <th>Month_Year</th>\n",
       "    </tr>\n",
       "  </thead>\n",
       "  <tbody>\n",
       "    <tr>\n",
       "      <th>count</th>\n",
       "      <td>1000.000000</td>\n",
       "      <td>1000</td>\n",
       "      <td>1000</td>\n",
       "      <td>1000</td>\n",
       "      <td>1000.000000</td>\n",
       "      <td>1000.000000</td>\n",
       "      <td>1000.000000</td>\n",
       "      <td>1000</td>\n",
       "      <td>1000</td>\n",
       "      <td>1000</td>\n",
       "      <td>1000</td>\n",
       "    </tr>\n",
       "    <tr>\n",
       "      <th>unique</th>\n",
       "      <td>NaN</td>\n",
       "      <td>NaN</td>\n",
       "      <td>7</td>\n",
       "      <td>2</td>\n",
       "      <td>NaN</td>\n",
       "      <td>NaN</td>\n",
       "      <td>NaN</td>\n",
       "      <td>2</td>\n",
       "      <td>2</td>\n",
       "      <td>5</td>\n",
       "      <td>12</td>\n",
       "    </tr>\n",
       "    <tr>\n",
       "      <th>top</th>\n",
       "      <td>NaN</td>\n",
       "      <td>NaN</td>\n",
       "      <td>Cold coffee</td>\n",
       "      <td>Fastfood</td>\n",
       "      <td>NaN</td>\n",
       "      <td>NaN</td>\n",
       "      <td>NaN</td>\n",
       "      <td>Cash</td>\n",
       "      <td>Mr.</td>\n",
       "      <td>Night</td>\n",
       "      <td>2022-05</td>\n",
       "    </tr>\n",
       "    <tr>\n",
       "      <th>freq</th>\n",
       "      <td>NaN</td>\n",
       "      <td>NaN</td>\n",
       "      <td>161</td>\n",
       "      <td>686</td>\n",
       "      <td>NaN</td>\n",
       "      <td>NaN</td>\n",
       "      <td>NaN</td>\n",
       "      <td>583</td>\n",
       "      <td>512</td>\n",
       "      <td>205</td>\n",
       "      <td>100</td>\n",
       "    </tr>\n",
       "    <tr>\n",
       "      <th>mean</th>\n",
       "      <td>500.500000</td>\n",
       "      <td>2022-10-03 14:39:50.400000</td>\n",
       "      <td>NaN</td>\n",
       "      <td>NaN</td>\n",
       "      <td>33.315000</td>\n",
       "      <td>8.162000</td>\n",
       "      <td>275.230000</td>\n",
       "      <td>NaN</td>\n",
       "      <td>NaN</td>\n",
       "      <td>NaN</td>\n",
       "      <td>NaN</td>\n",
       "    </tr>\n",
       "    <tr>\n",
       "      <th>min</th>\n",
       "      <td>1.000000</td>\n",
       "      <td>2022-04-01 00:00:00</td>\n",
       "      <td>NaN</td>\n",
       "      <td>NaN</td>\n",
       "      <td>20.000000</td>\n",
       "      <td>1.000000</td>\n",
       "      <td>20.000000</td>\n",
       "      <td>NaN</td>\n",
       "      <td>NaN</td>\n",
       "      <td>NaN</td>\n",
       "      <td>NaN</td>\n",
       "    </tr>\n",
       "    <tr>\n",
       "      <th>25%</th>\n",
       "      <td>250.750000</td>\n",
       "      <td>2022-07-04 00:00:00</td>\n",
       "      <td>NaN</td>\n",
       "      <td>NaN</td>\n",
       "      <td>20.000000</td>\n",
       "      <td>4.000000</td>\n",
       "      <td>120.000000</td>\n",
       "      <td>NaN</td>\n",
       "      <td>NaN</td>\n",
       "      <td>NaN</td>\n",
       "      <td>NaN</td>\n",
       "    </tr>\n",
       "    <tr>\n",
       "      <th>40%</th>\n",
       "      <td>400.600000</td>\n",
       "      <td>2022-08-31 00:00:00</td>\n",
       "      <td>NaN</td>\n",
       "      <td>NaN</td>\n",
       "      <td>20.000000</td>\n",
       "      <td>7.000000</td>\n",
       "      <td>200.000000</td>\n",
       "      <td>NaN</td>\n",
       "      <td>NaN</td>\n",
       "      <td>NaN</td>\n",
       "      <td>NaN</td>\n",
       "    </tr>\n",
       "    <tr>\n",
       "      <th>50%</th>\n",
       "      <td>500.500000</td>\n",
       "      <td>2022-10-07 12:00:00</td>\n",
       "      <td>NaN</td>\n",
       "      <td>NaN</td>\n",
       "      <td>25.000000</td>\n",
       "      <td>8.000000</td>\n",
       "      <td>240.000000</td>\n",
       "      <td>NaN</td>\n",
       "      <td>NaN</td>\n",
       "      <td>NaN</td>\n",
       "      <td>NaN</td>\n",
       "    </tr>\n",
       "    <tr>\n",
       "      <th>60%</th>\n",
       "      <td>600.400000</td>\n",
       "      <td>2022-11-10 00:00:00</td>\n",
       "      <td>NaN</td>\n",
       "      <td>NaN</td>\n",
       "      <td>40.000000</td>\n",
       "      <td>10.000000</td>\n",
       "      <td>280.000000</td>\n",
       "      <td>NaN</td>\n",
       "      <td>NaN</td>\n",
       "      <td>NaN</td>\n",
       "      <td>NaN</td>\n",
       "    </tr>\n",
       "    <tr>\n",
       "      <th>75%</th>\n",
       "      <td>750.250000</td>\n",
       "      <td>2023-01-02 00:00:00</td>\n",
       "      <td>NaN</td>\n",
       "      <td>NaN</td>\n",
       "      <td>50.000000</td>\n",
       "      <td>12.000000</td>\n",
       "      <td>360.000000</td>\n",
       "      <td>NaN</td>\n",
       "      <td>NaN</td>\n",
       "      <td>NaN</td>\n",
       "      <td>NaN</td>\n",
       "    </tr>\n",
       "    <tr>\n",
       "      <th>80%</th>\n",
       "      <td>800.200000</td>\n",
       "      <td>2023-01-18 00:00:00</td>\n",
       "      <td>NaN</td>\n",
       "      <td>NaN</td>\n",
       "      <td>50.000000</td>\n",
       "      <td>13.000000</td>\n",
       "      <td>420.000000</td>\n",
       "      <td>NaN</td>\n",
       "      <td>NaN</td>\n",
       "      <td>NaN</td>\n",
       "      <td>NaN</td>\n",
       "    </tr>\n",
       "    <tr>\n",
       "      <th>max</th>\n",
       "      <td>1000.000000</td>\n",
       "      <td>2023-03-30 00:00:00</td>\n",
       "      <td>NaN</td>\n",
       "      <td>NaN</td>\n",
       "      <td>60.000000</td>\n",
       "      <td>15.000000</td>\n",
       "      <td>900.000000</td>\n",
       "      <td>NaN</td>\n",
       "      <td>NaN</td>\n",
       "      <td>NaN</td>\n",
       "      <td>NaN</td>\n",
       "    </tr>\n",
       "    <tr>\n",
       "      <th>std</th>\n",
       "      <td>288.819436</td>\n",
       "      <td>NaN</td>\n",
       "      <td>NaN</td>\n",
       "      <td>NaN</td>\n",
       "      <td>14.921744</td>\n",
       "      <td>4.413075</td>\n",
       "      <td>204.402979</td>\n",
       "      <td>NaN</td>\n",
       "      <td>NaN</td>\n",
       "      <td>NaN</td>\n",
       "      <td>NaN</td>\n",
       "    </tr>\n",
       "  </tbody>\n",
       "</table>\n",
       "</div>"
      ],
      "text/plain": [
       "           order_id                        date    item_name item_type  \\\n",
       "count   1000.000000                        1000         1000      1000   \n",
       "unique          NaN                         NaN            7         2   \n",
       "top             NaN                         NaN  Cold coffee  Fastfood   \n",
       "freq            NaN                         NaN          161       686   \n",
       "mean     500.500000  2022-10-03 14:39:50.400000          NaN       NaN   \n",
       "min        1.000000         2022-04-01 00:00:00          NaN       NaN   \n",
       "25%      250.750000         2022-07-04 00:00:00          NaN       NaN   \n",
       "40%      400.600000         2022-08-31 00:00:00          NaN       NaN   \n",
       "50%      500.500000         2022-10-07 12:00:00          NaN       NaN   \n",
       "60%      600.400000         2022-11-10 00:00:00          NaN       NaN   \n",
       "75%      750.250000         2023-01-02 00:00:00          NaN       NaN   \n",
       "80%      800.200000         2023-01-18 00:00:00          NaN       NaN   \n",
       "max     1000.000000         2023-03-30 00:00:00          NaN       NaN   \n",
       "std      288.819436                         NaN          NaN       NaN   \n",
       "\n",
       "         item_price     quantity  transaction_amount transaction_type  \\\n",
       "count   1000.000000  1000.000000         1000.000000             1000   \n",
       "unique          NaN          NaN                 NaN                2   \n",
       "top             NaN          NaN                 NaN             Cash   \n",
       "freq            NaN          NaN                 NaN              583   \n",
       "mean      33.315000     8.162000          275.230000              NaN   \n",
       "min       20.000000     1.000000           20.000000              NaN   \n",
       "25%       20.000000     4.000000          120.000000              NaN   \n",
       "40%       20.000000     7.000000          200.000000              NaN   \n",
       "50%       25.000000     8.000000          240.000000              NaN   \n",
       "60%       40.000000    10.000000          280.000000              NaN   \n",
       "75%       50.000000    12.000000          360.000000              NaN   \n",
       "80%       50.000000    13.000000          420.000000              NaN   \n",
       "max       60.000000    15.000000          900.000000              NaN   \n",
       "std       14.921744     4.413075          204.402979              NaN   \n",
       "\n",
       "       received_by time_of_sale Month_Year  \n",
       "count         1000         1000       1000  \n",
       "unique           2            5         12  \n",
       "top            Mr.        Night    2022-05  \n",
       "freq           512          205        100  \n",
       "mean           NaN          NaN        NaN  \n",
       "min            NaN          NaN        NaN  \n",
       "25%            NaN          NaN        NaN  \n",
       "40%            NaN          NaN        NaN  \n",
       "50%            NaN          NaN        NaN  \n",
       "60%            NaN          NaN        NaN  \n",
       "75%            NaN          NaN        NaN  \n",
       "80%            NaN          NaN        NaN  \n",
       "max            NaN          NaN        NaN  \n",
       "std            NaN          NaN        NaN  "
      ]
     },
     "execution_count": 52,
     "metadata": {},
     "output_type": "execute_result"
    }
   ],
   "source": [
    "df.describe(percentiles=[0.25,0.4,0.6,0.75,0.8] ,include='all')"
   ]
  },
  {
   "cell_type": "markdown",
   "id": "3ef4b94b",
   "metadata": {},
   "source": [
    "***********************************************************\n",
    "#### Inference\n",
    "\n",
    "    1.For item_price the values are between 20-60 and most values are near 40\n",
    "\n",
    "***********************************************************"
   ]
  },
  {
   "cell_type": "code",
   "execution_count": null,
   "id": "0337644e",
   "metadata": {},
   "outputs": [],
   "source": []
  },
  {
   "cell_type": "code",
   "execution_count": null,
   "id": "3685ffba",
   "metadata": {},
   "outputs": [],
   "source": [
    "#check for outliers"
   ]
  },
  {
   "cell_type": "code",
   "execution_count": 48,
   "id": "6595f49b",
   "metadata": {},
   "outputs": [
    {
     "data": {
      "image/png": "[encoded data removed]",
      "text/plain": [
       "<Figure size 1500x800 with 4 Axes>"
      ]
     },
     "metadata": {},
     "output_type": "display_data"
    }
   ],
   "source": [
    "t=1\n",
    "for i in num_col:\n",
    "    plt.subplot(3,2,t)\n",
    "    sns.boxplot(x=df[i], palette='rainbow')\n",
    "    t+=1\n",
    "    plt.xticks()\n",
    "plt.tight_layout()\n",
    "plt.show()"
   ]
  },
  {
   "cell_type": "code",
   "execution_count": 58,
   "id": "63239263",
   "metadata": {},
   "outputs": [
    {
     "name": "stdout",
     "output_type": "stream",
     "text": [
      "The Skew value of each columns:\n",
      "\n",
      "order_id : 0.0 & Normal_Sknewness\n",
      "item_price : 0.6250044803515558 & Positive_Skewness\n",
      "quantity : -0.05129947454908782 & Negative_Skewness\n",
      "transaction_amount : 1.052643178230624 & Positive_Skewness\n",
      "\n",
      "\n",
      "****************************\n",
      "\n",
      "\n",
      "The Kurtosis value of each columns:\n",
      "\n",
      "order_id : -1.2 & it is PlatyKurtic\n",
      "item_price : -1.173262217524134 & it is PlatyKurtic\n",
      "quantity : -1.2416861155903576 & it is PlatyKurtic\n",
      "transaction_amount : 0.6554065709917558 & it is PlatyKurtic\n"
     ]
    }
   ],
   "source": [
    "#Skewness\n",
    "print('The Skew value of each columns:\\n')\n",
    "for i in num_col:\n",
    "    a = ''\n",
    "    if df[i].skew() == 0:\n",
    "        a='Normal_Sknewness'\n",
    "    elif df[i].skew() > 0:\n",
    "        a='Positive_Skewness'\n",
    "    elif df[i].skew() < 0:\n",
    "        a='Negative_Skewness'\n",
    "    print(i,':',df[i].skew(),'&',a)\n",
    "    \n",
    "print('\\n\\n****************************\\n\\n')\n",
    "    \n",
    "#Kurtosis\n",
    "print('The Kurtosis value of each columns:\\n')\n",
    "for i in num_col:\n",
    "    a = ''\n",
    "    if df[i].kurt() == 3:\n",
    "        a='MesoKurtic'\n",
    "    elif df[i].kurt() > 3:\n",
    "        a='LeptoKurtic'\n",
    "    elif df[i].kurt() < 3:\n",
    "        a='PlatyKurtic'\n",
    "        \n",
    "    print(i,':',df[i].kurt(),'& it is',a)"
   ]
  },
  {
   "cell_type": "markdown",
   "id": "a9c2f7a3",
   "metadata": {},
   "source": [
    "***********************************************************\n",
    "#### INFERENCE\n",
    "    1. All the numerical column have flat tail\n",
    "    2. We have transaction_amount as positive skew that contains 4 outlier\n",
    "    \n",
    "***********************************************************"
   ]
  },
  {
   "cell_type": "code",
   "execution_count": null,
   "id": "20d5c4f9",
   "metadata": {},
   "outputs": [],
   "source": []
  },
  {
   "cell_type": "code",
   "execution_count": null,
   "id": "151b9c4b",
   "metadata": {},
   "outputs": [],
   "source": []
  },
  {
   "cell_type": "markdown",
   "id": "9ade1f91",
   "metadata": {},
   "source": [
    "#### Monthwise revenue of each item "
   ]
  },
  {
   "cell_type": "code",
   "execution_count": 16,
   "id": "bbe5884c",
   "metadata": {},
   "outputs": [],
   "source": [
    "df['Month_Year'] = df['date'].dt.to_period(\"M\")"
   ]
  },
  {
   "cell_type": "code",
   "execution_count": 19,
   "id": "dd564fd9",
   "metadata": {},
   "outputs": [],
   "source": [
    "revenue = pd.pivot_table(df,values='transaction_amount',index='Month_Year',columns='item_name')"
   ]
  },
  {
   "cell_type": "code",
   "execution_count": 30,
   "id": "e5bdbeb6",
   "metadata": {},
   "outputs": [
    {
     "data": {
      "image/png": "[encoded data removed]",
      "text/plain": [
       "<Figure size 1500x800 with 1 Axes>"
      ]
     },
     "metadata": {},
     "output_type": "display_data"
    }
   ],
   "source": [
    "plt.rcParams['figure.figsize'] = [15,8]\n",
    "revenue.plot(kind='line' , title='Revenue by Item Name')\n",
    "plt.ylabel('Transaction Amount')\n",
    "plt.show()"
   ]
  },
  {
   "cell_type": "code",
   "execution_count": null,
   "id": "e364a847",
   "metadata": {},
   "outputs": [],
   "source": []
  },
  {
   "cell_type": "code",
   "execution_count": null,
   "id": "17144689",
   "metadata": {},
   "outputs": [],
   "source": []
  },
  {
   "cell_type": "code",
   "execution_count": null,
   "id": "1f6632ac",
   "metadata": {},
   "outputs": [],
   "source": []
  },
  {
   "cell_type": "markdown",
   "id": "7f1cd278",
   "metadata": {},
   "source": [
    "#### Overall analysis of all columns"
   ]
  },
  {
   "cell_type": "code",
   "execution_count": 32,
   "id": "3b2eb956",
   "metadata": {
    "scrolled": false
   },
   "outputs": [
    {
     "data": {
      "image/png": "[encoded data removed]",
      "text/plain": [
       "<Figure size 1500x800 with 5 Axes>"
      ]
     },
     "metadata": {},
     "output_type": "display_data"
    }
   ],
   "source": [
    "t=1\n",
    "for i in cat_col:\n",
    "    plt.subplot(3,2,t)\n",
    "    sns.countplot(x=df[i], palette='rainbow')\n",
    "    t+=1\n",
    "    plt.xticks()\n",
    "plt.tight_layout()\n",
    "plt.show()"
   ]
  },
  {
   "cell_type": "code",
   "execution_count": 36,
   "id": "f0a1e2ce",
   "metadata": {
    "scrolled": true
   },
   "outputs": [
    {
     "name": "stdout",
     "output_type": "stream",
     "text": [
      "The unique value_counts of each column\n",
      "\n",
      " In item_name\n",
      "Cold coffee        16.1\n",
      "Sugarcane juice    15.3\n",
      "Panipuri           15.0\n",
      "Frankie            13.9\n",
      "Aalopuri           13.4\n",
      "Vadapav            13.4\n",
      "Sandwich           12.9\n",
      "Name: proportion, dtype: float64\n",
      "\n",
      "*************\n",
      "\n",
      " In item_type\n",
      "Fastfood     68.6\n",
      "Beverages    31.4\n",
      "Name: proportion, dtype: float64\n",
      "\n",
      "*************\n",
      "\n",
      " In transaction_type\n",
      "Cash      58.3\n",
      "Online    41.7\n",
      "Name: proportion, dtype: float64\n",
      "\n",
      "*************\n",
      "\n",
      " In received_by\n",
      "Mr.     51.2\n",
      "Mrs.    48.8\n",
      "Name: proportion, dtype: float64\n",
      "\n",
      "*************\n",
      "\n",
      " In time_of_sale\n",
      "Night        20.5\n",
      "Afternoon    20.5\n",
      "Evening      20.1\n",
      "Midnight     19.9\n",
      "Morning      19.0\n",
      "Name: proportion, dtype: float64\n",
      "\n",
      "*************\n"
     ]
    }
   ],
   "source": [
    "print('The unique value_counts of each column')\n",
    "for i in cat_col:\n",
    "    print('\\n In',df[i].value_counts(normalize=True)*100)\n",
    "    print('\\n*************')"
   ]
  },
  {
   "cell_type": "markdown",
   "id": "463c6cea",
   "metadata": {},
   "source": [
    "***********************************************************\n",
    "#### INFERENCE\n",
    "    1. Most top 3 selling item is Cold Coffee, Sugarcane Juice, and Pani Puri\n",
    "    2. Most selling type are Fastfoods\n",
    "    3. Many are preffered Cash payment and sales done by men are bit higher than sales by women.\n",
    "    4. Most orders are in morning & night\n",
    "    \n",
    "***********************************************************    "
   ]
  },
  {
   "cell_type": "code",
   "execution_count": null,
   "id": "3868440b",
   "metadata": {},
   "outputs": [],
   "source": []
  },
  {
   "cell_type": "markdown",
   "id": "1969872a",
   "metadata": {},
   "source": [
    "#### Most selling item during the time of sale"
   ]
  },
  {
   "cell_type": "code",
   "execution_count": 35,
   "id": "2c99489b",
   "metadata": {},
   "outputs": [
    {
     "data": {
      "image/png": "[encoded data removed]",
      "text/plain": [
       "<Figure size 1500x800 with 1 Axes>"
      ]
     },
     "metadata": {},
     "output_type": "display_data"
    }
   ],
   "source": [
    "sns.barplot(data=df,x='time_of_sale', y='transaction_amount', hue='item_name',palette='rainbow')\n",
    "plt.show()"
   ]
  },
  {
   "cell_type": "code",
   "execution_count": 39,
   "id": "d0e7d9e2",
   "metadata": {},
   "outputs": [
    {
     "data": {
      "text/html": [
       "<div>\n",
       "<style scoped>\n",
       "    .dataframe tbody tr th:only-of-type {\n",
       "        vertical-align: middle;\n",
       "    }\n",
       "\n",
       "    .dataframe tbody tr th {\n",
       "        vertical-align: top;\n",
       "    }\n",
       "\n",
       "    .dataframe thead th {\n",
       "        text-align: right;\n",
       "    }\n",
       "</style>\n",
       "<table border=\"1\" class=\"dataframe\">\n",
       "  <thead>\n",
       "    <tr style=\"text-align: right;\">\n",
       "      <th>item_name</th>\n",
       "      <th>Aalopuri</th>\n",
       "      <th>Cold coffee</th>\n",
       "      <th>Frankie</th>\n",
       "      <th>Panipuri</th>\n",
       "      <th>Sandwich</th>\n",
       "      <th>Sugarcane juice</th>\n",
       "      <th>Vadapav</th>\n",
       "    </tr>\n",
       "    <tr>\n",
       "      <th>time_of_sale</th>\n",
       "      <th></th>\n",
       "      <th></th>\n",
       "      <th></th>\n",
       "      <th></th>\n",
       "      <th></th>\n",
       "      <th></th>\n",
       "      <th></th>\n",
       "    </tr>\n",
       "  </thead>\n",
       "  <tbody>\n",
       "    <tr>\n",
       "      <th>Afternoon</th>\n",
       "      <td>155.862069</td>\n",
       "      <td>396.470588</td>\n",
       "      <td>383.870968</td>\n",
       "      <td>164.285714</td>\n",
       "      <td>517.894737</td>\n",
       "      <td>198.170732</td>\n",
       "      <td>168.695652</td>\n",
       "    </tr>\n",
       "    <tr>\n",
       "      <th>Evening</th>\n",
       "      <td>143.157895</td>\n",
       "      <td>313.333333</td>\n",
       "      <td>413.793103</td>\n",
       "      <td>133.888889</td>\n",
       "      <td>426.206897</td>\n",
       "      <td>221.093750</td>\n",
       "      <td>153.076923</td>\n",
       "    </tr>\n",
       "    <tr>\n",
       "      <th>Midnight</th>\n",
       "      <td>135.151515</td>\n",
       "      <td>312.307692</td>\n",
       "      <td>450.000000</td>\n",
       "      <td>179.354839</td>\n",
       "      <td>463.846154</td>\n",
       "      <td>211.607143</td>\n",
       "      <td>142.424242</td>\n",
       "    </tr>\n",
       "    <tr>\n",
       "      <th>Morning</th>\n",
       "      <td>159.259259</td>\n",
       "      <td>358.750000</td>\n",
       "      <td>443.478261</td>\n",
       "      <td>160.689655</td>\n",
       "      <td>561.600000</td>\n",
       "      <td>206.000000</td>\n",
       "      <td>134.482759</td>\n",
       "    </tr>\n",
       "    <tr>\n",
       "      <th>Night</th>\n",
       "      <td>187.692308</td>\n",
       "      <td>306.666667</td>\n",
       "      <td>397.058824</td>\n",
       "      <td>187.692308</td>\n",
       "      <td>584.000000</td>\n",
       "      <td>210.185185</td>\n",
       "      <td>159.130435</td>\n",
       "    </tr>\n",
       "  </tbody>\n",
       "</table>\n",
       "</div>"
      ],
      "text/plain": [
       "item_name       Aalopuri  Cold coffee     Frankie    Panipuri    Sandwich  \\\n",
       "time_of_sale                                                                \n",
       "Afternoon     155.862069   396.470588  383.870968  164.285714  517.894737   \n",
       "Evening       143.157895   313.333333  413.793103  133.888889  426.206897   \n",
       "Midnight      135.151515   312.307692  450.000000  179.354839  463.846154   \n",
       "Morning       159.259259   358.750000  443.478261  160.689655  561.600000   \n",
       "Night         187.692308   306.666667  397.058824  187.692308  584.000000   \n",
       "\n",
       "item_name     Sugarcane juice     Vadapav  \n",
       "time_of_sale                               \n",
       "Afternoon          198.170732  168.695652  \n",
       "Evening            221.093750  153.076923  \n",
       "Midnight           211.607143  142.424242  \n",
       "Morning            206.000000  134.482759  \n",
       "Night              210.185185  159.130435  "
      ]
     },
     "execution_count": 39,
     "metadata": {},
     "output_type": "execute_result"
    }
   ],
   "source": [
    "pd.pivot_table(df,values='transaction_amount',index='time_of_sale',columns='item_name')"
   ]
  },
  {
   "cell_type": "markdown",
   "id": "5fd23abc",
   "metadata": {},
   "source": [
    "***********************************************************\n",
    "#### Inference\n",
    "    1.During the night and morning hours, people prefer visiting restaurants.\n",
    "    2.sandwiches and frankies are the more popular items during these peak time compared to other times of the day.\n",
    "***********************************************************"
   ]
  },
  {
   "cell_type": "code",
   "execution_count": null,
   "id": "9984b379",
   "metadata": {},
   "outputs": [],
   "source": []
  },
  {
   "cell_type": "code",
   "execution_count": null,
   "id": "bff34174",
   "metadata": {},
   "outputs": [],
   "source": []
  },
  {
   "cell_type": "markdown",
   "id": "6f95b25a",
   "metadata": {},
   "source": [
    "#### Num column correlation"
   ]
  },
  {
   "cell_type": "code",
   "execution_count": 51,
   "id": "d3a1d7e1",
   "metadata": {},
   "outputs": [
    {
     "data": {
      "text/html": [
       "<div>\n",
       "<style scoped>\n",
       "    .dataframe tbody tr th:only-of-type {\n",
       "        vertical-align: middle;\n",
       "    }\n",
       "\n",
       "    .dataframe tbody tr th {\n",
       "        vertical-align: top;\n",
       "    }\n",
       "\n",
       "    .dataframe thead th {\n",
       "        text-align: right;\n",
       "    }\n",
       "</style>\n",
       "<table border=\"1\" class=\"dataframe\">\n",
       "  <thead>\n",
       "    <tr style=\"text-align: right;\">\n",
       "      <th></th>\n",
       "      <th>order_id</th>\n",
       "      <th>item_price</th>\n",
       "      <th>quantity</th>\n",
       "      <th>transaction_amount</th>\n",
       "    </tr>\n",
       "  </thead>\n",
       "  <tbody>\n",
       "    <tr>\n",
       "      <th>order_id</th>\n",
       "      <td>1.000000</td>\n",
       "      <td>0.037028</td>\n",
       "      <td>0.010345</td>\n",
       "      <td>0.043970</td>\n",
       "    </tr>\n",
       "    <tr>\n",
       "      <th>item_price</th>\n",
       "      <td>0.037028</td>\n",
       "      <td>1.000000</td>\n",
       "      <td>0.050361</td>\n",
       "      <td>0.637238</td>\n",
       "    </tr>\n",
       "    <tr>\n",
       "      <th>quantity</th>\n",
       "      <td>0.010345</td>\n",
       "      <td>0.050361</td>\n",
       "      <td>1.000000</td>\n",
       "      <td>0.731806</td>\n",
       "    </tr>\n",
       "    <tr>\n",
       "      <th>transaction_amount</th>\n",
       "      <td>0.043970</td>\n",
       "      <td>0.637238</td>\n",
       "      <td>0.731806</td>\n",
       "      <td>1.000000</td>\n",
       "    </tr>\n",
       "  </tbody>\n",
       "</table>\n",
       "</div>"
      ],
      "text/plain": [
       "                    order_id  item_price  quantity  transaction_amount\n",
       "order_id            1.000000    0.037028  0.010345            0.043970\n",
       "item_price          0.037028    1.000000  0.050361            0.637238\n",
       "quantity            0.010345    0.050361  1.000000            0.731806\n",
       "transaction_amount  0.043970    0.637238  0.731806            1.000000"
      ]
     },
     "execution_count": 51,
     "metadata": {},
     "output_type": "execute_result"
    }
   ],
   "source": [
    "df[num_col].corr()"
   ]
  },
  {
   "cell_type": "markdown",
   "id": "28cf7533",
   "metadata": {},
   "source": [
    "***********************************************************\n",
    "#### INFERENCE\n",
    "    1. Transaction amount is highly dependent on quantity and item price\n",
    "***********************************************************"
   ]
  },
  {
   "cell_type": "code",
   "execution_count": null,
   "id": "c0174866",
   "metadata": {},
   "outputs": [],
   "source": []
  },
  {
   "cell_type": "code",
   "execution_count": null,
   "id": "e57c8fd7",
   "metadata": {},
   "outputs": [],
   "source": []
  },
  {
   "cell_type": "code",
   "execution_count": null,
   "id": "6a1f8b49",
   "metadata": {},
   "outputs": [],
   "source": []
  },
  {
   "cell_type": "code",
   "execution_count": null,
   "id": "560b7fc9",
   "metadata": {},
   "outputs": [],
   "source": []
  },
  {
   "cell_type": "markdown",
   "id": "b1b4fd5b",
   "metadata": {},
   "source": [
    "# Summary"
   ]
  },
  {
   "cell_type": "markdown",
   "id": "162e4545",
   "metadata": {},
   "source": [
    "From the data of transactions at a local restaurant we found that\n",
    "\n",
    "Top 3 most selling items are Cold Coffee, Sugarcane Juice, and Pani Puri and it shows that fast food items are more popular and have higher sales compared to beverages.\n",
    "\n",
    "The most Transaction method used by customers is using cash rather than online payments and the amount is highly dependent on quantity and item price\n",
    "\n",
    "we can see that during the night and morning hours, people prefer restaurants. And during both of these times, sandwiches and frankies are the more popular items compared to other times of the day.\n",
    "\n",
    "And as per the gender based performance males have slightly higher performance in sales compared to females, although the difference is not significant.\n",
    "\n"
   ]
  }
 ],
 "metadata": {
  "kernelspec": {
   "display_name": "Python 3 (ipykernel)",
   "language": "python",
   "name": "python3"
  },
  "language_info": {
   "codemirror_mode": {
    "name": "ipython",
    "version": 3
   },
   "file_extension": ".py",
   "mimetype": "text/x-python",
   "name": "python",
   "nbconvert_exporter": "python",
   "pygments_lexer": "ipython3",
   "version": "3.11.5"
  }
 },
 "nbformat": 4,
 "nbformat_minor": 5
}
